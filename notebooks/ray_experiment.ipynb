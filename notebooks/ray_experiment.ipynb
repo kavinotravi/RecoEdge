{
 "cells": [
  {
   "cell_type": "code",
   "execution_count": 5,
   "metadata": {},
   "outputs": [],
   "source": [
    "import ray\n",
    "ray.init()\n",
    "from fl_strategies.fed_avg import FedAvg\n",
    "import yaml\n",
    "from fedrec.utilities.logger import NoOpLogger\n",
    "from fedrec.python_executors.aggregator import AggregatorConfig\n",
    "from fedrec.multiprocessing.process_manager import RayProcessManager\n",
    "from typing import Callable, Dict\n",
    "import sys\n",
    "from fedrec.multiprocessing.jobber import Jobber\n",
    "\n",
    "class JobExecutor:\n",
    "    def __init__(self,\n",
    "                 actorCls: Callable,\n",
    "                 config: Dict,\n",
    "                 actor_config: AggregatorConfig,\n",
    "                 logger: NoOpLogger,\n",
    "                 **kwargs) -> None:\n",
    "        \"\"\" Class responsible for running aggregator/trainer on a single node.\n",
    "        \"\"\"\n",
    "        # Construct trainer and do training\n",
    "        if not set(['experiments','fedrec','fl_strategies']).issubset(set(sys.modules.values())):\n",
    "            import experiments\n",
    "            import fedrec\n",
    "            import fl_strategies\n",
    "        self.config = config\n",
    "        self.worker = actorCls(0, config[\"model\"], actor_config, logger, **kwargs)\n",
    "\n",
    "        self.jobber = Jobber(\n",
    "            self.worker, logger, config[\"multiprocessing\"][\"communications\"])\n",
    "\n",
    "    def run(self):\n",
    "        return self.jobber.run()"
   ]
  },
  {
   "cell_type": "code",
   "execution_count": 6,
   "metadata": {},
   "outputs": [],
   "source": [
    "with open(\"../configs/dlrm_fl.yml\", 'r') as cfg:\n",
    "    config = yaml.load(cfg, Loader=yaml.FullLoader)\n",
    "\n",
    "ag_config = {\n",
    "        # Seed for RNG used in shuffling the training data.\n",
    "    \"data_seed\" : 100,\n",
    "    # Seed for RNG used in initializing the model.\n",
    "    \"init_seed\" : 100,\n",
    "    # Seed for RNG used in computing the model's training loss.\n",
    "    # Only relevant with internal randomness in the model, e.g. with dropout.\n",
    "    \"model_seed\" : 100\n",
    "}\n",
    "aggregator_cfg = AggregatorConfig(**ag_config)\n",
    "JHhook = ray.remote(JobExecutor)\n",
    "je_Aggregator = JHhook.remote(FedAvg,\n",
    "                                config,\n",
    "                                aggregator_cfg,\n",
    "                                NoOpLogger())\n",
    "je_Aggregator.run.remote()"
   ]
  },
  {
   "cell_type": "code",
   "execution_count": 8,
   "metadata": {},
   "outputs": [],
   "source": [
    "ray.shutdown()"
   ]
  },
  {
   "cell_type": "code",
   "execution_count": 3,
   "metadata": {},
   "outputs": [],
   "source": [
    "rpm = RayProcessManager()\n",
    "rpm.distribute(JobExecutor, FedAvg.__name__, 1 ,\n",
    "                        FedAvg, config[\"model\"], aggregator_cfg, NoOpLogger())\n",
    "\n",
    "rpm.start(FedAvg.__name__, \"run\")"
   ]
  }
 ],
 "metadata": {
  "language_info": {
   "name": "python"
  },
  "orig_nbformat": 4
 },
 "nbformat": 4,
 "nbformat_minor": 2
}
